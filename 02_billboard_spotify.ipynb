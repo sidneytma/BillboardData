{
 "cells": [
  {
   "cell_type": "markdown",
   "id": "cb3def71",
   "metadata": {},
   "source": [
    "# Collecting Billboard Data from Spotify\n",
    "#### 11/01/2023\n",
    "In this notebook, I use the Spotify API to collect songs from Billboard Year-End Top 100 playlists, and compare the results to Wikipedia data to check for correctness.\n",
    "\n",
    "Many users have taken the time to compile public Spotify playlists according to Billboard data. Through searching online, I was able to find all the playlists and collect their links, which can be used get data through the API later:"
   ]
  },
  {
   "cell_type": "markdown",
   "id": "cc9d6ced",
   "metadata": {},
   "source": [
    "## Finding the playlists\n",
    "After about 10 minutes of searching through (and listening to) these playlists, I pasted all the links here:"
   ]
  },
  {
   "cell_type": "markdown",
   "id": "11bd1f56",
   "metadata": {},
   "source": [
    "https://open.spotify.com/playlist/6oMuzOETMnkHjrApJIboQl\n",
    "https://open.spotify.com/playlist/1uoHvDD6ebjvmH02GtmdT9\n",
    "https://open.spotify.com/playlist/741Tpr4nbbPomeeNm26zhR\n",
    "https://open.spotify.com/playlist/1dyb3iCpfLYBQxdOjRuOme\n",
    "https://open.spotify.com/playlist/4LDnL81lbN6ndYY86ApQAA\n",
    "https://open.spotify.com/playlist/4olzlochc7bKxI9meYVBQ5\n",
    "https://open.spotify.com/playlist/0NT0tq924n07BCDt9f5ZbL\n",
    "https://open.spotify.com/playlist/0D8RVLZQJKbt1txw7fXCoA\n",
    "https://open.spotify.com/playlist/0S6g0tqZNT7xSdlNQzU2OQ\n",
    "https://open.spotify.com/playlist/7FnOEoPb0biPkxYYAoXO8Q\n",
    "https://open.spotify.com/playlist/4aUY170nZ3mhkzMpTAXDv2\n",
    "https://open.spotify.com/playlist/2z3eLip2NlV9quzTEm37cW\n",
    "https://open.spotify.com/playlist/0W42jv9ZJTwCL0cLuLbTfX\n",
    "https://open.spotify.com/playlist/1KK0RvFmgsUkZ8zELRZgjS\n",
    "https://open.spotify.com/playlist/2trgZsxRpWX7sq28yHC40u\n",
    "https://open.spotify.com/playlist/6LYxiUgw87zsDPqU0sdalZ\n",
    "https://open.spotify.com/playlist/3JbWD8OGutoTKUbR3RvR8u\n",
    "https://open.spotify.com/playlist/2XPEN88QyrPQ9zGqS8uS2x\n",
    "https://open.spotify.com/playlist/4MCwbKJPbmfKY08aTyur9e\n",
    "https://open.spotify.com/playlist/6sxay2eKIKLxHCuytNSohv\n",
    "https://open.spotify.com/playlist/2jDNKyd7Fs8Zf3pLVkCasY\n",
    "https://open.spotify.com/playlist/1bjAgktyYGqKJXynU4H8SO\n",
    "https://open.spotify.com/playlist/6tsGGO4rewMHMjbvSUHHc7"
   ]
  },
  {
   "cell_type": "code",
   "execution_count": 1,
   "id": "05abcb6c",
   "metadata": {},
   "outputs": [
    {
     "data": {
      "text/plain": [
       "23"
      ]
     },
     "execution_count": 1,
     "metadata": {},
     "output_type": "execute_result"
    }
   ],
   "source": [
    "links = str.split(\"https://open.spotify.com/playlist/6oMuzOETMnkHjrApJIboQl https://open.spotify.com/playlist/1uoHvDD6ebjvmH02GtmdT9 https://open.spotify.com/playlist/741Tpr4nbbPomeeNm26zhR https://open.spotify.com/playlist/1dyb3iCpfLYBQxdOjRuOme https://open.spotify.com/playlist/4LDnL81lbN6ndYY86ApQAA https://open.spotify.com/playlist/4olzlochc7bKxI9meYVBQ5 https://open.spotify.com/playlist/0NT0tq924n07BCDt9f5ZbL https://open.spotify.com/playlist/0D8RVLZQJKbt1txw7fXCoA https://open.spotify.com/playlist/0S6g0tqZNT7xSdlNQzU2OQ https://open.spotify.com/playlist/7FnOEoPb0biPkxYYAoXO8Q https://open.spotify.com/playlist/4aUY170nZ3mhkzMpTAXDv2 https://open.spotify.com/playlist/2z3eLip2NlV9quzTEm37cW https://open.spotify.com/playlist/0W42jv9ZJTwCL0cLuLbTfX https://open.spotify.com/playlist/1KK0RvFmgsUkZ8zELRZgjS https://open.spotify.com/playlist/2trgZsxRpWX7sq28yHC40u https://open.spotify.com/playlist/6LYxiUgw87zsDPqU0sdalZ https://open.spotify.com/playlist/3JbWD8OGutoTKUbR3RvR8u https://open.spotify.com/playlist/2XPEN88QyrPQ9zGqS8uS2x https://open.spotify.com/playlist/4MCwbKJPbmfKY08aTyur9e https://open.spotify.com/playlist/6sxay2eKIKLxHCuytNSohv https://open.spotify.com/playlist/2jDNKyd7Fs8Zf3pLVkCasY https://open.spotify.com/playlist/1bjAgktyYGqKJXynU4H8SO https://open.spotify.com/playlist/6tsGGO4rewMHMjbvSUHHc7\")\n",
    "len(links)"
   ]
  },
  {
   "cell_type": "markdown",
   "id": "bef4d3e3",
   "metadata": {},
   "source": [
    "In any given link, the playlist ID is the text after \".../playlist/...\""
   ]
  },
  {
   "cell_type": "code",
   "execution_count": 2,
   "id": "4626899b",
   "metadata": {},
   "outputs": [
    {
     "name": "stdout",
     "output_type": "stream",
     "text": [
      "['6oMuzOETMnkHjrApJIboQl', '1uoHvDD6ebjvmH02GtmdT9', '741Tpr4nbbPomeeNm26zhR', '1dyb3iCpfLYBQxdOjRuOme', '4LDnL81lbN6ndYY86ApQAA', '4olzlochc7bKxI9meYVBQ5', '0NT0tq924n07BCDt9f5ZbL', '0D8RVLZQJKbt1txw7fXCoA', '0S6g0tqZNT7xSdlNQzU2OQ', '7FnOEoPb0biPkxYYAoXO8Q', '4aUY170nZ3mhkzMpTAXDv2', '2z3eLip2NlV9quzTEm37cW', '0W42jv9ZJTwCL0cLuLbTfX', '1KK0RvFmgsUkZ8zELRZgjS', '2trgZsxRpWX7sq28yHC40u', '6LYxiUgw87zsDPqU0sdalZ', '3JbWD8OGutoTKUbR3RvR8u', '2XPEN88QyrPQ9zGqS8uS2x', '4MCwbKJPbmfKY08aTyur9e', '6sxay2eKIKLxHCuytNSohv', '2jDNKyd7Fs8Zf3pLVkCasY', '1bjAgktyYGqKJXynU4H8SO', '6tsGGO4rewMHMjbvSUHHc7']\n"
     ]
    }
   ],
   "source": [
    "# Extract the playlist IDs\n",
    "playlist_ids = [playlist_id.replace(\"https://open.spotify.com/playlist/\", '') for playlist_id in links]\n",
    "print(playlist_ids)"
   ]
  },
  {
   "cell_type": "markdown",
   "id": "f5db0b90",
   "metadata": {},
   "source": [
    "Now that we have all these IDs, we can start our Spotify searches:"
   ]
  },
  {
   "cell_type": "markdown",
   "id": "7e9b70aa",
   "metadata": {},
   "source": [
    "## Gathering playlist data"
   ]
  },
  {
   "cell_type": "code",
   "execution_count": 3,
   "id": "27589f30",
   "metadata": {},
   "outputs": [],
   "source": [
    "import pandas as pd\n",
    "from tqdm import tqdm\n",
    "import requests\n",
    "import base64\n",
    "import re\n",
    "import json"
   ]
  },
  {
   "cell_type": "markdown",
   "id": "6b913fce",
   "metadata": {},
   "source": [
    "The first thing to do is authenticate myself and get an access token, so that I can complete searches (I'll have to run this code every hour or so):"
   ]
  },
  {
   "cell_type": "code",
   "execution_count": 4,
   "id": "2b728d5c",
   "metadata": {},
   "outputs": [
    {
     "name": "stdout",
     "output_type": "stream",
     "text": [
      "Successfully authenticated!\n"
     ]
    }
   ],
   "source": [
    "# Request setup\n",
    "CLIENT_ID = '526daa7bf54e45ee891e83cc0f806f10'\n",
    "CLIENT_SECRET = '25f3c9ec9d21478083879659c40455b5'\n",
    "AUTH_URL = 'https://accounts.spotify.com/api/token'\n",
    "headers = {\n",
    "    'Authorization': 'Basic ' + base64.b64encode(f'{CLIENT_ID}:{CLIENT_SECRET}'.encode()).decode()\n",
    "}\n",
    "data = {\n",
    "    'grant_type': 'client_credentials'\n",
    "}\n",
    "auth_response = requests.post(AUTH_URL, headers=headers, data=data)\n",
    "\n",
    "# Get the access token\n",
    "access_token = auth_response.json().get('access_token')\n",
    "\n",
    "# Set up headers for future API calls\n",
    "headers = {\n",
    "    'Authorization': 'Bearer ' + access_token\n",
    "}\n",
    "\n",
    "# Check if we successfully fetched the token\n",
    "if access_token:\n",
    "    print(\"Successfully authenticated!\")\n",
    "else:\n",
    "    print(\"Failed to authenticate\")"
   ]
  },
  {
   "cell_type": "markdown",
   "id": "e3aa6237",
   "metadata": {},
   "source": [
    "Now, we can begine the search."
   ]
  },
  {
   "cell_type": "code",
   "execution_count": 5,
   "id": "7905fd86",
   "metadata": {},
   "outputs": [],
   "source": [
    "def get_playlist_data(playlist_id, token):\n",
    "    \"\"\"\n",
    "    Function to get the playlist data (a json file) given a playlist ID.\n",
    "    \"\"\"\n",
    "    BASE_URL = \"https://api.spotify.com/v1/playlists/\"\n",
    "    HEADERS = {\n",
    "        \"Authorization\": f\"Bearer {token}\",\n",
    "        \"Content-Type\": \"application/json\"\n",
    "    }\n",
    "\n",
    "    URL = BASE_URL + f\"{playlist_id}/tracks\"\n",
    "    response = requests.get(URL, headers=HEADERS)\n",
    "    return response.json()\n"
   ]
  },
  {
   "cell_type": "code",
   "execution_count": 6,
   "id": "9ca2c1c8",
   "metadata": {
    "scrolled": true
   },
   "outputs": [
    {
     "name": "stderr",
     "output_type": "stream",
     "text": [
      "100%|███████████████████████████████████████████| 23/23 [00:13<00:00,  1.74it/s]\n"
     ]
    }
   ],
   "source": [
    "# Apply the above function for all playlists\n",
    "all_playlist_data = [get_playlist_data(playlist_id, access_token) for playlist_id in tqdm(playlist_ids)]"
   ]
  },
  {
   "cell_type": "markdown",
   "id": "a7604ead",
   "metadata": {},
   "source": [
    "Now, that we have all the playlist data, let's see if it matches up with our ground truth."
   ]
  },
  {
   "cell_type": "markdown",
   "id": "8e5ebb5c",
   "metadata": {},
   "source": [
    "## Finding mismatched songs\n",
    "The first thing to check is whether or not the Spotify data has the right number of songs in each year:"
   ]
  },
  {
   "cell_type": "code",
   "execution_count": 15,
   "id": "c99be31a",
   "metadata": {
    "scrolled": false
   },
   "outputs": [
    {
     "name": "stdout",
     "output_type": "stream",
     "text": [
      "2000 100     2001 99     2002 100     2003 100     2004 100     2005 100     2006 100     2007 100     2008 100     2009 100     2010 100     2011 100     2012 99     2013 100     2014 100     2015 100     2016 100     2017 100     2018 100     2019 100     2020 100     2021 100     2022 100     "
     ]
    }
   ],
   "source": [
    "for i in range(23):\n",
    "    print(2000 + i, len(all_playlist_data[i]['items']), end='     ')"
   ]
  },
  {
   "cell_type": "markdown",
   "id": "9616bdd6",
   "metadata": {},
   "source": [
    "It doesn't... 2001 and 2012 are both missing one song. I'll keep that in mind.\n",
    "\n",
    "I'm not going to get into exactly how I verified each song, as it was a bit mind-numbing. But all the code is below:"
   ]
  },
  {
   "cell_type": "code",
   "execution_count": 129,
   "id": "6ead6979",
   "metadata": {
    "scrolled": true
   },
   "outputs": [],
   "source": [
    "wiki_songs = pd.read_csv('wiki_songs.csv')\n",
    "wiki_spotify_songs = wiki_songs[['Title']]"
   ]
  },
  {
   "cell_type": "code",
   "execution_count": 130,
   "id": "d032d685",
   "metadata": {},
   "outputs": [],
   "source": [
    "spotify_songs = []\n",
    "for playlist in all_playlist_data:\n",
    "    items = playlist['items']\n",
    "    for i in items:\n",
    "        spotify_songs.append(i['track']['name'])"
   ]
  },
  {
   "cell_type": "code",
   "execution_count": 131,
   "id": "e0ef27f3",
   "metadata": {
    "scrolled": false
   },
   "outputs": [
    {
     "name": "stderr",
     "output_type": "stream",
     "text": [
      "/var/folders/4k/z019px4j0t7csyx6sb1stb_m0000gn/T/ipykernel_27454/3786441650.py:1: SettingWithCopyWarning: \n",
      "A value is trying to be set on a copy of a slice from a DataFrame.\n",
      "Try using .loc[row_indexer,col_indexer] = value instead\n",
      "\n",
      "See the caveats in the documentation: https://pandas.pydata.org/pandas-docs/stable/user_guide/indexing.html#returning-a-view-versus-a-copy\n",
      "  wiki_spotify_songs['Spotify'] = pd.Series(spotify_songs)\n"
     ]
    }
   ],
   "source": [
    "wiki_spotify_songs['Spotify'] = pd.Series(spotify_songs)"
   ]
  },
  {
   "cell_type": "code",
   "execution_count": 132,
   "id": "90318def",
   "metadata": {},
   "outputs": [],
   "source": [
    "def simplify_title(title):\n",
    "    if type(title) != str:\n",
    "        return title\n",
    "    title = title.lower()\n",
    "    title = title = re.sub(r'[^a-z0-9\\s]', '', title) # removes any special characters\n",
    "    title = re.sub(r'\\(.*?\\)', '', title)  # removes content within ()\n",
    "    title = re.sub(r'\\[.*?\\]', '', title)  # removes content within []\n",
    "    title = title.strip()\n",
    "    return title[:6] if len(title) >= 5 else title"
   ]
  },
  {
   "cell_type": "code",
   "execution_count": 133,
   "id": "370b3c81",
   "metadata": {},
   "outputs": [
    {
     "name": "stderr",
     "output_type": "stream",
     "text": [
      "/var/folders/4k/z019px4j0t7csyx6sb1stb_m0000gn/T/ipykernel_27454/3998165900.py:1: SettingWithCopyWarning: \n",
      "A value is trying to be set on a copy of a slice from a DataFrame.\n",
      "Try using .loc[row_indexer,col_indexer] = value instead\n",
      "\n",
      "See the caveats in the documentation: https://pandas.pydata.org/pandas-docs/stable/user_guide/indexing.html#returning-a-view-versus-a-copy\n",
      "  wiki_spotify_songs['Title'] = wiki_spotify_songs['Title'].apply(simplify_title)\n",
      "/var/folders/4k/z019px4j0t7csyx6sb1stb_m0000gn/T/ipykernel_27454/3998165900.py:2: SettingWithCopyWarning: \n",
      "A value is trying to be set on a copy of a slice from a DataFrame.\n",
      "Try using .loc[row_indexer,col_indexer] = value instead\n",
      "\n",
      "See the caveats in the documentation: https://pandas.pydata.org/pandas-docs/stable/user_guide/indexing.html#returning-a-view-versus-a-copy\n",
      "  wiki_spotify_songs['Spotify'] = wiki_spotify_songs['Spotify'].apply(simplify_title)\n"
     ]
    }
   ],
   "source": [
    "wiki_spotify_songs['Title'] = wiki_spotify_songs['Title'].apply(simplify_title)\n",
    "wiki_spotify_songs['Spotify'] = wiki_spotify_songs['Spotify'].apply(simplify_title)"
   ]
  },
  {
   "cell_type": "code",
   "execution_count": 148,
   "id": "42ca4f27",
   "metadata": {},
   "outputs": [],
   "source": [
    "#wiki_spotify_songs[wiki_spotify_songs['Title'] != wiki_spotify_songs['Spotify']]\n",
    "#wiki_spotify_songs['Spotify'] = wiki_spotify_songs['Spotify'].shift(1)\n",
    "#wiki_spotify_songs[1281:][wiki_spotify_songs['Title'] != wiki_spotify_songs['Spotify']]"
   ]
  },
  {
   "cell_type": "markdown",
   "id": "0cb492dc",
   "metadata": {},
   "source": [
    "And after searching through the long list, it turns out the only two edits I need to make are these two songs:\n",
    "\n",
    "_Get Over Yourself_ by Eden's Crush, ranking 92 in 2001 (The official song isn't on Spotify)\n",
    "\n",
    "_Birthday Cake_ by Rihanna, ranking 79 in 2012 (this song is really just not that good, maybe that's why it wasn't included :P)"
   ]
  },
  {
   "cell_type": "markdown",
   "id": "5dfb30e2",
   "metadata": {},
   "source": [
    "## Inserting the missing data"
   ]
  },
  {
   "cell_type": "markdown",
   "id": "6e9a5bf7",
   "metadata": {},
   "source": [
    "The best way to retrieve the song data from Spotify is by making a query based on track name and artist name:"
   ]
  },
  {
   "cell_type": "code",
   "execution_count": 7,
   "id": "c54f607e",
   "metadata": {},
   "outputs": [],
   "source": [
    "def get_track_data(track_name, artist_name, token):\n",
    "    headers = {\n",
    "        \"Authorization\": f\"Bearer {token}\"\n",
    "    }\n",
    "    \n",
    "    query = f\"track:{track_name} artist:{artist_name}\"\n",
    "    params = {\n",
    "        \"q\": query,\n",
    "        \"type\": \"track\",\n",
    "        \"limit\": 1\n",
    "    }\n",
    "    \n",
    "    response = requests.get(\"https://api.spotify.com/v1/search\", headers=headers, params=params)\n",
    "    \n",
    "    # If we find the song...\n",
    "    if response.status_code == 200:\n",
    "        return response.json()\n",
    "        if data['tracks']['items']:\n",
    "            return data['tracks']['items'][0]\n",
    "    else:\n",
    "        print(f\"Error {response.status_code}: {response.text}\")\n",
    "        return None"
   ]
  },
  {
   "cell_type": "code",
   "execution_count": 8,
   "id": "49c22d71",
   "metadata": {},
   "outputs": [],
   "source": [
    "get_over_yourself_data = get_track_data(\"Get Over Yourself\", \"BFM Hits\", access_token)\n",
    "get_over_yourself_data = {'track': get_over_yourself_data['tracks']['items'][0] }\n",
    "\n",
    "birthday_cake_data = get_track_data(\"Birthday Cake\", \"Rihanna\", access_token)\n",
    "birthday_cake_data = {'track': birthday_cake_data['tracks']['items'][0] }"
   ]
  },
  {
   "cell_type": "markdown",
   "id": "a0be05ef",
   "metadata": {},
   "source": [
    "It took a lot of trial and error to get the song data to be the same format as the rest of the songs in the playlists, but eventually, I got it to match and was ready to insert:"
   ]
  },
  {
   "cell_type": "code",
   "execution_count": 9,
   "id": "fcefe3bb",
   "metadata": {},
   "outputs": [],
   "source": [
    "all_playlist_data[1]['items'].insert(91, get_over_yourself_data)\n",
    "all_playlist_data[12]['items'].insert(78, birthday_cake_data)"
   ]
  },
  {
   "cell_type": "code",
   "execution_count": 10,
   "id": "382937af",
   "metadata": {},
   "outputs": [],
   "source": [
    "# Finally, let's save this to a json file for later use\n",
    "with open('all_playlist_data.json', 'w', encoding='utf-8') as f:\n",
    "    json.dump(all_playlist_data, f, ensure_ascii=False, indent=4)"
   ]
  },
  {
   "cell_type": "markdown",
   "id": "328ebf13",
   "metadata": {},
   "source": [
    "## Next steps"
   ]
  },
  {
   "cell_type": "markdown",
   "id": "bfa117c4",
   "metadata": {},
   "source": [
    "Glad this part is done! Now, it's time to make our datasets."
   ]
  }
 ],
 "metadata": {
  "kernelspec": {
   "display_name": "Python 3 (ipykernel)",
   "language": "python",
   "name": "python3"
  },
  "language_info": {
   "codemirror_mode": {
    "name": "ipython",
    "version": 3
   },
   "file_extension": ".py",
   "mimetype": "text/x-python",
   "name": "python",
   "nbconvert_exporter": "python",
   "pygments_lexer": "ipython3",
   "version": "3.11.4"
  }
 },
 "nbformat": 4,
 "nbformat_minor": 5
}
